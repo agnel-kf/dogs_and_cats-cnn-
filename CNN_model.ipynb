{
 "cells": [
  {
   "cell_type": "code",
   "execution_count": 2,
   "metadata": {},
   "outputs": [],
   "source": [
    "import pandas as pd\n",
    "import tensorflow as tf\n",
    "import numpy as np\n",
    "from keras.preprocessing.image import ImageDataGenerator"
   ]
  },
  {
   "cell_type": "code",
   "execution_count": 3,
   "metadata": {},
   "outputs": [
    {
     "data": {
      "text/plain": [
       "'2.5.0'"
      ]
     },
     "execution_count": 3,
     "metadata": {},
     "output_type": "execute_result"
    }
   ],
   "source": [
    "tf.__version__"
   ]
  },
  {
   "cell_type": "markdown",
   "metadata": {},
   "source": [
    "# Data Preprocessing \n",
    "## Training set\n"
   ]
  },
  {
   "cell_type": "code",
   "execution_count": 4,
   "metadata": {},
   "outputs": [
    {
     "name": "stdout",
     "output_type": "stream",
     "text": [
      "Found 8000 images belonging to 2 classes.\n"
     ]
    }
   ],
   "source": [
    "train_datagen = ImageDataGenerator(rescale = 1./255,shear_range = 0.2,zoom_range = 0.2,horizontal_flip = True)\n",
    "\n",
    "train_set = train_datagen.flow_from_directory('dataset/training_set',\n",
    "                                             target_size = (64,64),\n",
    "                                              batch_size = 32,\n",
    "                                              class_mode = 'binary')\n",
    "                                \n",
    "                                   "
   ]
  },
  {
   "cell_type": "markdown",
   "metadata": {},
   "source": [
    "## Test set"
   ]
  },
  {
   "cell_type": "code",
   "execution_count": 6,
   "metadata": {},
   "outputs": [
    {
     "name": "stdout",
     "output_type": "stream",
     "text": [
      "Found 2000 images belonging to 2 classes.\n"
     ]
    }
   ],
   "source": [
    "test_datagen = ImageDataGenerator(rescale = 1./255 )\n",
    "test_set = test_datagen.flow_from_directory('dataset/test_set',\n",
    "                                            target_size = (64,64),\n",
    "                                            batch_size = 32,\n",
    "                                            class_mode = 'binary')\n"
   ]
  },
  {
   "cell_type": "markdown",
   "metadata": {},
   "source": [
    "# Building the CNN\n",
    "## Initializing the CNN"
   ]
  },
  {
   "cell_type": "code",
   "execution_count": 8,
   "metadata": {},
   "outputs": [],
   "source": [
    "cnn = tf.keras.models.Sequential()"
   ]
  },
  {
   "cell_type": "markdown",
   "metadata": {},
   "source": [
    "## Convulution Layer"
   ]
  },
  {
   "cell_type": "code",
   "execution_count": 10,
   "metadata": {},
   "outputs": [],
   "source": [
    "cnn.add(tf.keras.layers.Conv2D(filters = 32,\n",
    "                              kernel_size = 3,\n",
    "                              activation = 'relu',\n",
    "                              input_shape = [64,64,3]))\n"
   ]
  },
  {
   "cell_type": "markdown",
   "metadata": {},
   "source": [
    "## Pooling "
   ]
  },
  {
   "cell_type": "code",
   "execution_count": 11,
   "metadata": {},
   "outputs": [],
   "source": [
    "cnn.add(tf.keras.layers.MaxPool2D(pool_size = 2, strides = 2))"
   ]
  },
  {
   "cell_type": "markdown",
   "metadata": {},
   "source": [
    "## Flattening"
   ]
  },
  {
   "cell_type": "code",
   "execution_count": 12,
   "metadata": {},
   "outputs": [],
   "source": [
    "cnn.add(tf.keras.layers.Flatten())"
   ]
  },
  {
   "cell_type": "markdown",
   "metadata": {},
   "source": [
    "## Full Connection"
   ]
  },
  {
   "cell_type": "code",
   "execution_count": 13,
   "metadata": {},
   "outputs": [],
   "source": [
    "cnn.add(tf.keras.layers.Dense(units = 128,activation = 'relu'))"
   ]
  },
  {
   "cell_type": "markdown",
   "metadata": {},
   "source": [
    "## Output Layer"
   ]
  },
  {
   "cell_type": "code",
   "execution_count": 14,
   "metadata": {},
   "outputs": [],
   "source": [
    "cnn.add(tf.keras.layers.Dense(units = 1,activation = 'sigmoid'))"
   ]
  },
  {
   "cell_type": "markdown",
   "metadata": {},
   "source": [
    "# Training the CNN\n",
    "## Compiling the CNN"
   ]
  },
  {
   "cell_type": "code",
   "execution_count": 15,
   "metadata": {},
   "outputs": [],
   "source": [
    "cnn.compile(optimizer = 'adam',loss = 'binary_crossentropy',metrics = ['accuracy'])"
   ]
  },
  {
   "cell_type": "markdown",
   "metadata": {},
   "source": [
    "## Training on Train set"
   ]
  },
  {
   "cell_type": "code",
   "execution_count": 18,
   "metadata": {},
   "outputs": [
    {
     "name": "stdout",
     "output_type": "stream",
     "text": [
      "Epoch 1/25\n",
      "250/250 [==============================] - 243s 963ms/step - loss: 0.6449 - accuracy: 0.6299 - val_loss: 0.5650 - val_accuracy: 0.7075\n",
      "Epoch 2/25\n",
      "250/250 [==============================] - 56s 223ms/step - loss: 0.5844 - accuracy: 0.6900 - val_loss: 0.5780 - val_accuracy: 0.6970\n",
      "Epoch 3/25\n",
      "250/250 [==============================] - 56s 225ms/step - loss: 0.5545 - accuracy: 0.7145 - val_loss: 0.5526 - val_accuracy: 0.7100\n",
      "Epoch 4/25\n",
      "250/250 [==============================] - 52s 207ms/step - loss: 0.5300 - accuracy: 0.7279 - val_loss: 0.5412 - val_accuracy: 0.7355\n",
      "Epoch 5/25\n",
      "250/250 [==============================] - 56s 224ms/step - loss: 0.5239 - accuracy: 0.7372 - val_loss: 0.5376 - val_accuracy: 0.7415\n",
      "Epoch 6/25\n",
      "250/250 [==============================] - 56s 222ms/step - loss: 0.5058 - accuracy: 0.7450 - val_loss: 0.5527 - val_accuracy: 0.7275\n",
      "Epoch 7/25\n",
      "250/250 [==============================] - 53s 212ms/step - loss: 0.4915 - accuracy: 0.7604 - val_loss: 0.5424 - val_accuracy: 0.7445\n",
      "Epoch 8/25\n",
      "250/250 [==============================] - 55s 220ms/step - loss: 0.4745 - accuracy: 0.7740 - val_loss: 0.5099 - val_accuracy: 0.7535\n",
      "Epoch 9/25\n",
      "250/250 [==============================] - 53s 213ms/step - loss: 0.4527 - accuracy: 0.7851 - val_loss: 0.5262 - val_accuracy: 0.7635\n",
      "Epoch 10/25\n",
      "250/250 [==============================] - 55s 220ms/step - loss: 0.4396 - accuracy: 0.7889 - val_loss: 0.5245 - val_accuracy: 0.7550\n",
      "Epoch 11/25\n",
      "250/250 [==============================] - 56s 222ms/step - loss: 0.4307 - accuracy: 0.7971 - val_loss: 0.5234 - val_accuracy: 0.7480\n",
      "Epoch 12/25\n",
      "250/250 [==============================] - 55s 219ms/step - loss: 0.4130 - accuracy: 0.8090 - val_loss: 0.5841 - val_accuracy: 0.7460\n",
      "Epoch 13/25\n",
      "250/250 [==============================] - 54s 218ms/step - loss: 0.4008 - accuracy: 0.8170 - val_loss: 0.5510 - val_accuracy: 0.7715\n",
      "Epoch 14/25\n",
      "250/250 [==============================] - 55s 219ms/step - loss: 0.3948 - accuracy: 0.8245 - val_loss: 0.5135 - val_accuracy: 0.7840\n",
      "Epoch 15/25\n",
      "250/250 [==============================] - 56s 226ms/step - loss: 0.3773 - accuracy: 0.8289 - val_loss: 0.5264 - val_accuracy: 0.7680\n",
      "Epoch 16/25\n",
      "250/250 [==============================] - 54s 218ms/step - loss: 0.3596 - accuracy: 0.8363 - val_loss: 0.5833 - val_accuracy: 0.7615\n",
      "Epoch 17/25\n",
      "250/250 [==============================] - 55s 219ms/step - loss: 0.3552 - accuracy: 0.8453 - val_loss: 0.5429 - val_accuracy: 0.7760\n",
      "Epoch 18/25\n",
      "250/250 [==============================] - 54s 218ms/step - loss: 0.3505 - accuracy: 0.8415 - val_loss: 0.5440 - val_accuracy: 0.7695\n",
      "Epoch 19/25\n",
      "250/250 [==============================] - 54s 218ms/step - loss: 0.3343 - accuracy: 0.8511 - val_loss: 0.5732 - val_accuracy: 0.7740\n",
      "Epoch 20/25\n",
      "250/250 [==============================] - 58s 234ms/step - loss: 0.3255 - accuracy: 0.8546 - val_loss: 0.5809 - val_accuracy: 0.7705\n",
      "Epoch 21/25\n",
      "250/250 [==============================] - 55s 222ms/step - loss: 0.3053 - accuracy: 0.8689 - val_loss: 0.6319 - val_accuracy: 0.7530loss: 0.3051 - accuracy: \n",
      "Epoch 22/25\n",
      "250/250 [==============================] - 57s 228ms/step - loss: 0.3046 - accuracy: 0.8676 - val_loss: 0.6008 - val_accuracy: 0.7660\n",
      "Epoch 23/25\n",
      "250/250 [==============================] - 57s 230ms/step - loss: 0.3032 - accuracy: 0.8691 - val_loss: 0.5876 - val_accuracy: 0.7705\n",
      "Epoch 24/25\n",
      "250/250 [==============================] - 68s 273ms/step - loss: 0.2919 - accuracy: 0.8745 - val_loss: 0.6175 - val_accuracy: 0.7575\n",
      "Epoch 25/25\n",
      "250/250 [==============================] - 66s 264ms/step - loss: 0.2706 - accuracy: 0.8823 - val_loss: 0.6329 - val_accuracy: 0.7645\n"
     ]
    },
    {
     "data": {
      "text/plain": [
       "<tensorflow.python.keras.callbacks.History at 0x1b40b95b6d0>"
      ]
     },
     "execution_count": 18,
     "metadata": {},
     "output_type": "execute_result"
    }
   ],
   "source": [
    "cnn.fit(x = train_set,validation_data = test_set,epochs = 25)"
   ]
  },
  {
   "cell_type": "markdown",
   "metadata": {},
   "source": [
    "# Prediction of a single input"
   ]
  },
  {
   "cell_type": "code",
   "execution_count": 20,
   "metadata": {},
   "outputs": [],
   "source": [
    "from keras.preprocessing import image\n",
    "import numpy as np"
   ]
  },
  {
   "cell_type": "code",
   "execution_count": 40,
   "metadata": {},
   "outputs": [
    {
     "name": "stdout",
     "output_type": "stream",
     "text": [
      "dog\n"
     ]
    }
   ],
   "source": [
    "test_image = image.load_img('dataset\\single_prediction\\cat_or_dog_1.jpg',\n",
    "                          target_size = (64,64)\n",
    "                           )\n",
    "test_image = image.img_to_array(test_image)\n",
    "test_image = np.expand_dims(test_image,axis = 0)\n",
    "result = cnn.predict(test_image)\n",
    "train_set.class_indices\n",
    "if result[0][0] == 1:\n",
    "    predictions = 'dog'\n",
    "else :\n",
    "    predictions = 'cat'\n",
    "print(predictions)"
   ]
  },
  {
   "cell_type": "code",
   "execution_count": null,
   "metadata": {},
   "outputs": [],
   "source": []
  }
 ],
 "metadata": {
  "kernelspec": {
   "display_name": "Python 3",
   "language": "python",
   "name": "python3"
  },
  "language_info": {
   "codemirror_mode": {
    "name": "ipython",
    "version": 3
   },
   "file_extension": ".py",
   "mimetype": "text/x-python",
   "name": "python",
   "nbconvert_exporter": "python",
   "pygments_lexer": "ipython3",
   "version": "3.8.5"
  }
 },
 "nbformat": 4,
 "nbformat_minor": 4
}
